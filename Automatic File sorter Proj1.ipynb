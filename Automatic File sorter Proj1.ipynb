{
 "cells": [
  {
   "cell_type": "code",
   "execution_count": 1,
   "id": "e150a315-0cf4-465f-b02f-3b8f98dbcd8a",
   "metadata": {},
   "outputs": [],
   "source": [
    "import os,shutil"
   ]
  },
  {
   "cell_type": "code",
   "execution_count": 3,
   "id": "a8a72814-59a1-4b7b-8bab-bf43a66f380f",
   "metadata": {},
   "outputs": [],
   "source": [
    "path=r\"C:/Users/harin/OneDrive/Documents/Automatic File Sorter Project/\""
   ]
  },
  {
   "cell_type": "code",
   "execution_count": 17,
   "id": "2e3d997f-e54c-4a12-8519-26a2d44d7ba4",
   "metadata": {},
   "outputs": [],
   "source": [
    "file_name=os.listdir(path)"
   ]
  },
  {
   "cell_type": "code",
   "execution_count": 7,
   "id": "a66f573d-43c8-4b4f-9506-65774f092770",
   "metadata": {},
   "outputs": [],
   "source": [
    "folder_names=['docx files','pdf files','csv files','img files']"
   ]
  },
  {
   "cell_type": "code",
   "execution_count": 13,
   "id": "0f434253-0570-4456-83f7-2dbc10b83ae0",
   "metadata": {},
   "outputs": [],
   "source": [
    "for loop in range(0,4):\n",
    "    if not os.path.exists(path+folder_names[loop]):\n",
    "        os.makedirs(path+folder_names[loop])"
   ]
  },
  {
   "cell_type": "code",
   "execution_count": 21,
   "id": "35187b09-4a57-4289-8063-37a298286a49",
   "metadata": {},
   "outputs": [
    {
     "name": "stdout",
     "output_type": "stream",
     "text": [
      "not moved\n",
      "not moved\n",
      "not moved\n",
      "not moved\n",
      "not moved\n"
     ]
    }
   ],
   "source": [
    "for file in file_name:\n",
    "    if \".csv\" in file and not os.path.exists(path+\"csv files/\"+file):\n",
    "        shutil.move(path+file,path+\"csv files/\"+file)\n",
    "    elif \".docx\" in file and not os.path.exists(path+\"docx files/\"+file):\n",
    "        shutil.move(path+file,path+\"docx files/\"+file)\n",
    "    elif \".pdf\" in file and not os.path.exists(path+\"pdf files/\"+file):\n",
    "        shutil.move(path+file,path+\"pdf files/\"+file)\n",
    "    elif \".jpg\" in file and not os.path.exists(path+\"img files/\"+file):\n",
    "        shutil.move(path+file,path+\"img files/\"+file)\n",
    "    else:\n",
    "        print(\"not moved\")"
   ]
  },
  {
   "cell_type": "code",
   "execution_count": null,
   "id": "b0d7d251-b241-44bd-b362-4e927842e47d",
   "metadata": {},
   "outputs": [],
   "source": []
  }
 ],
 "metadata": {
  "kernelspec": {
   "display_name": "Python [conda env:Python files for Anaconda]",
   "language": "python",
   "name": "conda-env-Python_files_for_Anaconda-py"
  },
  "language_info": {
   "codemirror_mode": {
    "name": "ipython",
    "version": 3
   },
   "file_extension": ".py",
   "mimetype": "text/x-python",
   "name": "python",
   "nbconvert_exporter": "python",
   "pygments_lexer": "ipython3",
   "version": "3.12.4"
  }
 },
 "nbformat": 4,
 "nbformat_minor": 5
}
